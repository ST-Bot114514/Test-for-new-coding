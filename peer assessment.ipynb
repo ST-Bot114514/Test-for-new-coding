{
 "cells": [
  {
   "cell_type": "markdown",
   "metadata": {},
   "source": [
    "<center>\n",
    "    <img src=\"https://cf-courses-data.s3.us.cloud-object-storage.appdomain.cloud/IBMDeveloperSkillsNetwork-DS0105EN-SkillsNetwork/labs/Module2/images/SN_web_lightmode.png\" width=\"300\" alt=\"cognitiveclass.ai logo\">\n",
    "</center>\n"
   ]
  },
  {
   "cell_type": "markdown",
   "metadata": {},
   "source": [
    "#### Add your code below following the instructions given in the course\n"
   ]
  },
  {
   "cell_type": "markdown",
   "metadata": {},
   "source": [
    "# My Jupyter Notebook on IBM Watson Studio Peer assessment"
   ]
  },
  {
   "cell_type": "markdown",
   "metadata": {},
   "source": [
    "__SIZHENG LI__\n",
    "\n",
    "researcher/teacher"
   ]
  },
  {
   "cell_type": "markdown",
   "metadata": {},
   "source": [
    "*I am interested in data science because not only that my discipline of environmental biology requires this tool ,but also I wish to participate in AI learning related projects in the future.*"
   ]
  },
  {
   "cell_type": "markdown",
   "metadata": {},
   "source": [
    "Data science Languages:\n",
    "1. Python\n",
    "2. R\n",
    "3. SQL\n",
    "4. Scala\n",
    "5. Matlab\n",
    "6. Julia"
   ]
  },
  {
   "cell_type": "markdown",
   "metadata": {},
   "source": [
    "Data science libraries \n",
    "\n",
    "**Python:**\n",
    "\n",
    "NumPy\n",
    "\n",
    "Pandas\n",
    "\n",
    "Matplotlib\n",
    "\n",
    "TensorFlow\n",
    "\n",
    "PyTorch\n",
    "\n",
    "**SQL:**\n",
    "\n",
    "SQLite\n",
    "\n",
    "MySQL\n",
    "\n",
    "PostgreSQL\n",
    "\n",
    "Oracle Database"
   ]
  },
  {
   "cell_type": "markdown",
   "metadata": {},
   "source": [
    "| Category | Tool | Language |\n",
    "| --- | --- | --- |\n",
    "| Programming Languages | Python | Python |\n",
    "|  | R | R |\n",
    "|  | SQL | SQL |\n",
    "|  | Julia | Julia |\n",
    "|  | MATLAB | MATLAB |\n",
    "|  | Scala | Scala |\n",
    "| Data Analysis | NumPy | Python |\n",
    "|  | Pandas | Python |\n",
    "|  | SQLite | SQL |\n",
    "|  | DataFrames.jl | Julia |\n",
    "| Data Visualization | Matplotlib | Python |\n",
    "|  | Seaborn | Python ||\n",
    "|  | Shiny | R |\n",
    "|  | Plots.jl | Julia |\n",
    "| Machine Learning | Scikit-learn | Python |\n",
    "|  | TensorFlow | Python |\n",
    "|  | Keras | Python |\n",
    "|  | caret | R |\n",
    "| Big Data | Apache Spark | Scala |\n",
    "|  | Hadoop | Java |\n",
    "|  | Hive | SQL |\n",
    "|  | Impala | SQL |\n",
    "| Cloud Computing | Amazon Web Services | N/A |\n",
    "|  | Google Cloud Platform | N/A |\n",
    "|  | Microsoft Azure | N/A |\n",
    "|  | IBM Cloud | N/A |\n"
   ]
  },
  {
   "cell_type": "markdown",
   "metadata": {},
   "source": [
    "# Arithmetic Expression Examples\n",
    "\n",
    "Arithmetic expressions are used to perform mathematical calculations in programming. Examples of  Arithmetic expressions in python are\n",
    "\n",
    "## Addition\n",
    "\n",
    "Addition is performed using the `+` operator. For example, the expression `3 + 4` evaluates to `7`.\n",
    "\n",
    "## Subtraction\n",
    "\n",
    "Subtraction is performed using the `-` operator. For example, the expression `5 - 2` evaluates to `3`.\n",
    "\n",
    "## Multiplication\n",
    "\n",
    "Multiplication is performed using the `*` operator. For example, the expression `2 * 6` evaluates to `12`.\n",
    "\n",
    "## Division\n",
    "\n",
    "Division is performed using the `/` operator. For example, the expression `10 / 2` evaluates to `5.0`.\n",
    "\n",
    "## Modulo\n",
    "\n",
    "The modulo operator `%` returns the remainder of a division operation. For example, the expression `7 % 3` evaluates to `1`.\n",
    "\n",
    "## Exponentiation\n",
    "\n",
    "Exponentiation is performed using the `**` operator. For example, the expression `2 ** 3` evaluates to `8`."
   ]
  },
  {
   "cell_type": "code",
   "execution_count": 10,
   "metadata": {},
   "outputs": [
    {
     "name": "stdout",
     "output_type": "stream",
     "text": [
      "The result of multiplying 5 and 7 is: 35\n",
      "The result of adding 35 and 2 is: 37\n"
     ]
    }
   ],
   "source": [
    "a = 5\n",
    "b = 7\n",
    "c = 2\n",
    "\n",
    "result1 = a * b\n",
    "\n",
    "result2 = result1 + c\n",
    "\n",
    "print(f\"The result of multiplying {a} and {b} is: {result1}\")\n",
    "print(f\"The result of adding {result1} and {c} is: {result2}\")"
   ]
  },
  {
   "cell_type": "code",
   "execution_count": 12,
   "metadata": {},
   "outputs": [
    {
     "name": "stdout",
     "output_type": "stream",
     "text": [
      "720 minutes is equivalent to 12.0 hours\n"
     ]
    }
   ],
   "source": [
    "minutes = 720\n",
    "\n",
    "hours = minutes / 60\n",
    "\n",
    "print(f\"{minutes} minutes is equivalent to {hours} hours\")"
   ]
  },
  {
   "cell_type": "markdown",
   "metadata": {},
   "source": [
    "The objectives of this project are:\n",
    "\n",
    "- Create a markdown cell with the title of the notebook\n",
    "- Create a markdown cell for an introduction..\n",
    "- Create a markdown cell to list data science languages.\n",
    "- Create a markdown cell to list data science libraries.\n",
    "- Create a markdown cell with a table of Data Science tools. (3 pts)\n",
    "- Create a markdown cell introducing arithmetic expression examples. (1 pt)\n",
    "- Create a code cell to multiply and add numbers.(2 pts)\n",
    "- Create a code cell to convert minutes to hours. (2 pts)\n",
    "- Insert a markdown cell to list Objectives. (3 pts)\n",
    "- Create a markdown cell to indicate the Author’s name. (2 pts)\n",
    "- Share your notebook through GitHub (3 pts)\n",
    "- Take a screenshot of the first page of the notebook. (1 pt)"
   ]
  },
  {
   "cell_type": "code",
   "execution_count": null,
   "metadata": {},
   "outputs": [],
   "source": []
  }
 ],
 "metadata": {
  "kernelspec": {
   "display_name": "Python",
   "language": "python",
   "name": "conda-env-python-py"
  },
  "language_info": {
   "codemirror_mode": {
    "name": "ipython",
    "version": 3
   },
   "file_extension": ".py",
   "mimetype": "text/x-python",
   "name": "python",
   "nbconvert_exporter": "python",
   "pygments_lexer": "ipython3",
   "version": "3.7.12"
  }
 },
 "nbformat": 4,
 "nbformat_minor": 4
}
